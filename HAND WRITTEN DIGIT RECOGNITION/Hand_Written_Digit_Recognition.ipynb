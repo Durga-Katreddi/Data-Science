{
  "nbformat": 4,
  "nbformat_minor": 0,
  "metadata": {
    "colab": {
      "provenance": []
    },
    "kernelspec": {
      "name": "python3",
      "display_name": "Python 3"
    },
    "language_info": {
      "name": "python"
    }
  },
  "cells": [
    {
      "cell_type": "code",
      "execution_count": 1,
      "metadata": {
        "id": "ngFXJTAqbhru"
      },
      "outputs": [],
      "source": [
        "from torchvision import datasets\n",
        "from torchvision.transforms import ToTensor\n",
        "# Ignore deprecated warnings\n",
        "import warnings\n",
        "warnings.filterwarnings(\"ignore\", category=UserWarning)"
      ]
    },
    {
      "cell_type": "code",
      "source": [
        "train_data = datasets.MNIST(\n",
        "    root = 'data',\n",
        "    train = True,\n",
        "    transform = ToTensor(),\n",
        "    download = True\n",
        ")\n",
        "\n",
        "test_data = datasets.MNIST(\n",
        "    root = 'data',\n",
        "    train = False,\n",
        "    transform = ToTensor(),\n",
        "    download = True\n",
        ")"
      ],
      "metadata": {
        "id": "_iiFZodObinD"
      },
      "execution_count": 2,
      "outputs": []
    },
    {
      "cell_type": "code",
      "source": [
        "\n",
        "train_data"
      ],
      "metadata": {
        "colab": {
          "base_uri": "https://localhost:8080/"
        },
        "id": "CxbeKYNybny9",
        "outputId": "3569a40f-4767-4823-da7a-2039bcf1918c"
      },
      "execution_count": 3,
      "outputs": [
        {
          "output_type": "execute_result",
          "data": {
            "text/plain": [
              "Dataset MNIST\n",
              "    Number of datapoints: 60000\n",
              "    Root location: data\n",
              "    Split: Train\n",
              "    StandardTransform\n",
              "Transform: ToTensor()"
            ]
          },
          "metadata": {},
          "execution_count": 3
        }
      ]
    },
    {
      "cell_type": "code",
      "source": [
        "test_data"
      ],
      "metadata": {
        "colab": {
          "base_uri": "https://localhost:8080/"
        },
        "id": "HqQdG3xSbqxB",
        "outputId": "4b465763-1493-46ed-88cd-e866ca61952a"
      },
      "execution_count": 4,
      "outputs": [
        {
          "output_type": "execute_result",
          "data": {
            "text/plain": [
              "Dataset MNIST\n",
              "    Number of datapoints: 10000\n",
              "    Root location: data\n",
              "    Split: Test\n",
              "    StandardTransform\n",
              "Transform: ToTensor()"
            ]
          },
          "metadata": {},
          "execution_count": 4
        }
      ]
    },
    {
      "cell_type": "code",
      "source": [
        "print(train_data.data.size())\n",
        "print(train_data.targets.size())"
      ],
      "metadata": {
        "colab": {
          "base_uri": "https://localhost:8080/"
        },
        "id": "UH91YIk5bsv3",
        "outputId": "ed7ababe-5f95-458a-cf65-05667257f2eb"
      },
      "execution_count": 5,
      "outputs": [
        {
          "output_type": "stream",
          "name": "stdout",
          "text": [
            "torch.Size([60000, 28, 28])\n",
            "torch.Size([60000])\n"
          ]
        }
      ]
    },
    {
      "cell_type": "code",
      "source": [
        "print(test_data.data.size())\n",
        "print(test_data.targets.size())"
      ],
      "metadata": {
        "colab": {
          "base_uri": "https://localhost:8080/"
        },
        "id": "_Zx4bmPMbyYe",
        "outputId": "cc020404-6669-499e-e0f6-df9afbbc8669"
      },
      "execution_count": 6,
      "outputs": [
        {
          "output_type": "stream",
          "name": "stdout",
          "text": [
            "torch.Size([10000, 28, 28])\n",
            "torch.Size([10000])\n"
          ]
        }
      ]
    },
    {
      "cell_type": "code",
      "source": [
        "train_data.targets"
      ],
      "metadata": {
        "colab": {
          "base_uri": "https://localhost:8080/"
        },
        "id": "SErv_T2Tb0QQ",
        "outputId": "2fbebb3a-d5e9-406d-dd3b-f91561435066"
      },
      "execution_count": 7,
      "outputs": [
        {
          "output_type": "execute_result",
          "data": {
            "text/plain": [
              "tensor([5, 0, 4,  ..., 5, 6, 8])"
            ]
          },
          "metadata": {},
          "execution_count": 7
        }
      ]
    },
    {
      "cell_type": "code",
      "source": [
        "\n",
        "from torch.utils.data import DataLoader\n",
        "\n",
        "loaders = {\n",
        "    'train' : DataLoader(train_data,\n",
        "                         batch_size=100,\n",
        "                         shuffle=True,\n",
        "                         num_workers=1),\n",
        "    'test' : DataLoader(test_data,\n",
        "                        batch_size=100,\n",
        "                        shuffle=True,\n",
        "                        num_workers=1)\n",
        "}"
      ],
      "metadata": {
        "id": "aaC3HZX3b3Oz"
      },
      "execution_count": 8,
      "outputs": []
    },
    {
      "cell_type": "code",
      "source": [
        "\n",
        "loaders"
      ],
      "metadata": {
        "colab": {
          "base_uri": "https://localhost:8080/"
        },
        "id": "rod1N1xFb64l",
        "outputId": "8338d414-accc-4844-b221-a413dcb6a2dc"
      },
      "execution_count": 9,
      "outputs": [
        {
          "output_type": "execute_result",
          "data": {
            "text/plain": [
              "{'train': <torch.utils.data.dataloader.DataLoader at 0x7b6d19aac970>,\n",
              " 'test': <torch.utils.data.dataloader.DataLoader at 0x7b6d19aae7d0>}"
            ]
          },
          "metadata": {},
          "execution_count": 9
        }
      ]
    },
    {
      "cell_type": "code",
      "source": [
        "import torch.nn as nn\n",
        "import torch.nn.functional as F\n",
        "import torch.optim as optim"
      ],
      "metadata": {
        "id": "Vy5sm3tgb8TD"
      },
      "execution_count": 10,
      "outputs": []
    },
    {
      "cell_type": "code",
      "source": [
        "class CNN(nn.Module):\n",
        "\n",
        "    def __init__(self):\n",
        "        super(CNN, self).__init__()\n",
        "\n",
        "        self.conv1 = nn.Conv2d(1, 10, kernel_size=5)\n",
        "        self.conv2 = nn.Conv2d(10, 20, kernel_size=5)\n",
        "        self.conv2_drop = nn.Dropout2d()\n",
        "        self.fc1 = nn.Linear(320, 50)\n",
        "        self.fc2 = nn.Linear(50, 10)\n",
        "\n",
        "    def forward(self, x):\n",
        "        x = F.relu(F.max_pool2d(self.conv1(x), 2))\n",
        "        x = F.relu(F.max_pool2d(self.conv2_drop(self.conv2(x)), 2))\n",
        "        x = x.view(-1, 320)\n",
        "        x = F.relu(self.fc1(x))\n",
        "        x = F.dropout(x, training=self.training)\n",
        "        x = self.fc2(x)\n",
        "\n",
        "        return F.softmax(x)"
      ],
      "metadata": {
        "id": "j38GmjPLcCLP"
      },
      "execution_count": 11,
      "outputs": []
    },
    {
      "cell_type": "code",
      "source": [
        "\n",
        "import torch\n",
        "device = torch.device('cuda' if torch.cuda.is_available() else 'cpu')\n",
        "model = CNN().to(device)\n",
        "optimizer = optim.Adam(model.parameters(), lr=0.001)\n",
        "loss_fn = nn.CrossEntropyLoss()"
      ],
      "metadata": {
        "id": "uiJnXf2XcESD"
      },
      "execution_count": 12,
      "outputs": []
    },
    {
      "cell_type": "code",
      "source": [
        "def train(epoch):\n",
        "    model.train()\n",
        "    for batch_idx, (data, target) in enumerate(loaders['train']):\n",
        "        data, target = data.to(device), target.to(device)\n",
        "        optimizer.zero_grad()\n",
        "        output = model(data)\n",
        "        loss = loss_fn(output, target)\n",
        "        loss.backward()\n",
        "        optimizer.step()\n",
        "        if batch_idx % 20 == 0:\n",
        "            print(f\"Train Epoch: {epoch} [{batch_idx * len(data)} / {len(loaders['train'].dataset)} ({100 * batch_idx / len(loaders['train']):0f}%)]\\t{loss.item():.6f}\")"
      ],
      "metadata": {
        "id": "K_l8rkqxcGfC"
      },
      "execution_count": 13,
      "outputs": []
    },
    {
      "cell_type": "code",
      "source": [
        "def test():\n",
        "    model.eval()\n",
        "    test_loss = 0\n",
        "    correct = 0\n",
        "    with torch.no_grad():\n",
        "        for data, target in loaders['test']:\n",
        "            data, target = data.to(device), target.to(device)\n",
        "            output = model(data)\n",
        "            test_loss += loss_fn(output, target).item()\n",
        "            pred = output.argmax(dim=1, keepdim=True)\n",
        "            correct += pred.eq(target.view_as(pred)).sum().item()\n",
        "    test_loss /= len(loaders['test'].dataset)\n",
        "    print(f\"\\nTest set: Average loss: {test_loss: 0.4f}, Accuracy {correct}/{len(loaders['test'].dataset)}  ({100 * correct / len(loaders['test'].dataset):.0f}%\\n)\")"
      ],
      "metadata": {
        "id": "J5dccIDccJ1Q"
      },
      "execution_count": 14,
      "outputs": []
    },
    {
      "cell_type": "code",
      "source": [
        "\n",
        "for epoch in range(1, 11):\n",
        "    train(epoch)\n",
        "    test()"
      ],
      "metadata": {
        "colab": {
          "base_uri": "https://localhost:8080/"
        },
        "id": "hDeO4PT2cMXq",
        "outputId": "10e2d468-3683-404a-e9ab-37ee8156641f"
      },
      "execution_count": 15,
      "outputs": [
        {
          "output_type": "stream",
          "name": "stdout",
          "text": [
            "Train Epoch: 1 [0 / 60000 (0.000000%)]\t2.301531\n",
            "Train Epoch: 1 [2000 / 60000 (3.333333%)]\t2.275246\n",
            "Train Epoch: 1 [4000 / 60000 (6.666667%)]\t2.128224\n",
            "Train Epoch: 1 [6000 / 60000 (10.000000%)]\t2.086848\n",
            "Train Epoch: 1 [8000 / 60000 (13.333333%)]\t2.009896\n",
            "Train Epoch: 1 [10000 / 60000 (16.666667%)]\t1.932858\n",
            "Train Epoch: 1 [12000 / 60000 (20.000000%)]\t1.866559\n",
            "Train Epoch: 1 [14000 / 60000 (23.333333%)]\t1.835525\n",
            "Train Epoch: 1 [16000 / 60000 (26.666667%)]\t1.774478\n",
            "Train Epoch: 1 [18000 / 60000 (30.000000%)]\t1.731989\n",
            "Train Epoch: 1 [20000 / 60000 (33.333333%)]\t1.702227\n",
            "Train Epoch: 1 [22000 / 60000 (36.666667%)]\t1.709560\n",
            "Train Epoch: 1 [24000 / 60000 (40.000000%)]\t1.724619\n",
            "Train Epoch: 1 [26000 / 60000 (43.333333%)]\t1.691672\n",
            "Train Epoch: 1 [28000 / 60000 (46.666667%)]\t1.751490\n",
            "Train Epoch: 1 [30000 / 60000 (50.000000%)]\t1.712511\n",
            "Train Epoch: 1 [32000 / 60000 (53.333333%)]\t1.658709\n",
            "Train Epoch: 1 [34000 / 60000 (56.666667%)]\t1.590221\n",
            "Train Epoch: 1 [36000 / 60000 (60.000000%)]\t1.660301\n",
            "Train Epoch: 1 [38000 / 60000 (63.333333%)]\t1.600601\n",
            "Train Epoch: 1 [40000 / 60000 (66.666667%)]\t1.650964\n",
            "Train Epoch: 1 [42000 / 60000 (70.000000%)]\t1.636633\n",
            "Train Epoch: 1 [44000 / 60000 (73.333333%)]\t1.639546\n",
            "Train Epoch: 1 [46000 / 60000 (76.666667%)]\t1.610429\n",
            "Train Epoch: 1 [48000 / 60000 (80.000000%)]\t1.639808\n",
            "Train Epoch: 1 [50000 / 60000 (83.333333%)]\t1.700064\n",
            "Train Epoch: 1 [52000 / 60000 (86.666667%)]\t1.663332\n",
            "Train Epoch: 1 [54000 / 60000 (90.000000%)]\t1.627552\n",
            "Train Epoch: 1 [56000 / 60000 (93.333333%)]\t1.619579\n",
            "Train Epoch: 1 [58000 / 60000 (96.666667%)]\t1.586223\n",
            "\n",
            "Test set: Average loss:  0.0154, Accuracy 9197/10000  (92%\n",
            ")\n",
            "Train Epoch: 2 [0 / 60000 (0.000000%)]\t1.612278\n",
            "Train Epoch: 2 [2000 / 60000 (3.333333%)]\t1.608001\n",
            "Train Epoch: 2 [4000 / 60000 (6.666667%)]\t1.617772\n",
            "Train Epoch: 2 [6000 / 60000 (10.000000%)]\t1.614567\n",
            "Train Epoch: 2 [8000 / 60000 (13.333333%)]\t1.604147\n",
            "Train Epoch: 2 [10000 / 60000 (16.666667%)]\t1.564014\n",
            "Train Epoch: 2 [12000 / 60000 (20.000000%)]\t1.662438\n",
            "Train Epoch: 2 [14000 / 60000 (23.333333%)]\t1.614657\n",
            "Train Epoch: 2 [16000 / 60000 (26.666667%)]\t1.573678\n",
            "Train Epoch: 2 [18000 / 60000 (30.000000%)]\t1.558623\n",
            "Train Epoch: 2 [20000 / 60000 (33.333333%)]\t1.556166\n",
            "Train Epoch: 2 [22000 / 60000 (36.666667%)]\t1.584477\n",
            "Train Epoch: 2 [24000 / 60000 (40.000000%)]\t1.572494\n",
            "Train Epoch: 2 [26000 / 60000 (43.333333%)]\t1.644445\n",
            "Train Epoch: 2 [28000 / 60000 (46.666667%)]\t1.568395\n",
            "Train Epoch: 2 [30000 / 60000 (50.000000%)]\t1.553484\n",
            "Train Epoch: 2 [32000 / 60000 (53.333333%)]\t1.594384\n",
            "Train Epoch: 2 [34000 / 60000 (56.666667%)]\t1.613359\n",
            "Train Epoch: 2 [36000 / 60000 (60.000000%)]\t1.608528\n",
            "Train Epoch: 2 [38000 / 60000 (63.333333%)]\t1.575850\n",
            "Train Epoch: 2 [40000 / 60000 (66.666667%)]\t1.595410\n",
            "Train Epoch: 2 [42000 / 60000 (70.000000%)]\t1.591667\n",
            "Train Epoch: 2 [44000 / 60000 (73.333333%)]\t1.592168\n",
            "Train Epoch: 2 [46000 / 60000 (76.666667%)]\t1.554189\n",
            "Train Epoch: 2 [48000 / 60000 (80.000000%)]\t1.608217\n",
            "Train Epoch: 2 [50000 / 60000 (83.333333%)]\t1.579631\n",
            "Train Epoch: 2 [52000 / 60000 (86.666667%)]\t1.538730\n",
            "Train Epoch: 2 [54000 / 60000 (90.000000%)]\t1.574739\n",
            "Train Epoch: 2 [56000 / 60000 (93.333333%)]\t1.608502\n",
            "Train Epoch: 2 [58000 / 60000 (96.666667%)]\t1.596084\n",
            "\n",
            "Test set: Average loss:  0.0152, Accuracy 9411/10000  (94%\n",
            ")\n",
            "Train Epoch: 3 [0 / 60000 (0.000000%)]\t1.621483\n",
            "Train Epoch: 3 [2000 / 60000 (3.333333%)]\t1.607345\n",
            "Train Epoch: 3 [4000 / 60000 (6.666667%)]\t1.576607\n",
            "Train Epoch: 3 [6000 / 60000 (10.000000%)]\t1.577457\n",
            "Train Epoch: 3 [8000 / 60000 (13.333333%)]\t1.587219\n",
            "Train Epoch: 3 [10000 / 60000 (16.666667%)]\t1.599813\n",
            "Train Epoch: 3 [12000 / 60000 (20.000000%)]\t1.564972\n",
            "Train Epoch: 3 [14000 / 60000 (23.333333%)]\t1.567287\n",
            "Train Epoch: 3 [16000 / 60000 (26.666667%)]\t1.586321\n",
            "Train Epoch: 3 [18000 / 60000 (30.000000%)]\t1.629941\n",
            "Train Epoch: 3 [20000 / 60000 (33.333333%)]\t1.576590\n",
            "Train Epoch: 3 [22000 / 60000 (36.666667%)]\t1.547381\n",
            "Train Epoch: 3 [24000 / 60000 (40.000000%)]\t1.621894\n",
            "Train Epoch: 3 [26000 / 60000 (43.333333%)]\t1.552897\n",
            "Train Epoch: 3 [28000 / 60000 (46.666667%)]\t1.534615\n",
            "Train Epoch: 3 [30000 / 60000 (50.000000%)]\t1.531206\n",
            "Train Epoch: 3 [32000 / 60000 (53.333333%)]\t1.595904\n",
            "Train Epoch: 3 [34000 / 60000 (56.666667%)]\t1.643205\n",
            "Train Epoch: 3 [36000 / 60000 (60.000000%)]\t1.537550\n",
            "Train Epoch: 3 [38000 / 60000 (63.333333%)]\t1.579965\n",
            "Train Epoch: 3 [40000 / 60000 (66.666667%)]\t1.551692\n",
            "Train Epoch: 3 [42000 / 60000 (70.000000%)]\t1.568249\n",
            "Train Epoch: 3 [44000 / 60000 (73.333333%)]\t1.608255\n",
            "Train Epoch: 3 [46000 / 60000 (76.666667%)]\t1.601358\n",
            "Train Epoch: 3 [48000 / 60000 (80.000000%)]\t1.541005\n",
            "Train Epoch: 3 [50000 / 60000 (83.333333%)]\t1.590229\n",
            "Train Epoch: 3 [52000 / 60000 (86.666667%)]\t1.550436\n",
            "Train Epoch: 3 [54000 / 60000 (90.000000%)]\t1.578017\n",
            "Train Epoch: 3 [56000 / 60000 (93.333333%)]\t1.548751\n",
            "Train Epoch: 3 [58000 / 60000 (96.666667%)]\t1.630125\n",
            "\n",
            "Test set: Average loss:  0.0151, Accuracy 9483/10000  (95%\n",
            ")\n",
            "Train Epoch: 4 [0 / 60000 (0.000000%)]\t1.569458\n",
            "Train Epoch: 4 [2000 / 60000 (3.333333%)]\t1.540056\n",
            "Train Epoch: 4 [4000 / 60000 (6.666667%)]\t1.574840\n",
            "Train Epoch: 4 [6000 / 60000 (10.000000%)]\t1.622920\n",
            "Train Epoch: 4 [8000 / 60000 (13.333333%)]\t1.571518\n",
            "Train Epoch: 4 [10000 / 60000 (16.666667%)]\t1.574870\n",
            "Train Epoch: 4 [12000 / 60000 (20.000000%)]\t1.626723\n",
            "Train Epoch: 4 [14000 / 60000 (23.333333%)]\t1.519629\n",
            "Train Epoch: 4 [16000 / 60000 (26.666667%)]\t1.603947\n",
            "Train Epoch: 4 [18000 / 60000 (30.000000%)]\t1.584805\n",
            "Train Epoch: 4 [20000 / 60000 (33.333333%)]\t1.596924\n",
            "Train Epoch: 4 [22000 / 60000 (36.666667%)]\t1.563323\n",
            "Train Epoch: 4 [24000 / 60000 (40.000000%)]\t1.572939\n",
            "Train Epoch: 4 [26000 / 60000 (43.333333%)]\t1.553146\n",
            "Train Epoch: 4 [28000 / 60000 (46.666667%)]\t1.518156\n",
            "Train Epoch: 4 [30000 / 60000 (50.000000%)]\t1.541667\n",
            "Train Epoch: 4 [32000 / 60000 (53.333333%)]\t1.581843\n",
            "Train Epoch: 4 [34000 / 60000 (56.666667%)]\t1.581397\n",
            "Train Epoch: 4 [36000 / 60000 (60.000000%)]\t1.603597\n",
            "Train Epoch: 4 [38000 / 60000 (63.333333%)]\t1.586238\n",
            "Train Epoch: 4 [40000 / 60000 (66.666667%)]\t1.571702\n",
            "Train Epoch: 4 [42000 / 60000 (70.000000%)]\t1.559962\n",
            "Train Epoch: 4 [44000 / 60000 (73.333333%)]\t1.599331\n",
            "Train Epoch: 4 [46000 / 60000 (76.666667%)]\t1.585742\n",
            "Train Epoch: 4 [48000 / 60000 (80.000000%)]\t1.599724\n",
            "Train Epoch: 4 [50000 / 60000 (83.333333%)]\t1.537194\n",
            "Train Epoch: 4 [52000 / 60000 (86.666667%)]\t1.558637\n",
            "Train Epoch: 4 [54000 / 60000 (90.000000%)]\t1.536519\n",
            "Train Epoch: 4 [56000 / 60000 (93.333333%)]\t1.513385\n",
            "Train Epoch: 4 [58000 / 60000 (96.666667%)]\t1.578441\n",
            "\n",
            "Test set: Average loss:  0.0150, Accuracy 9566/10000  (96%\n",
            ")\n",
            "Train Epoch: 5 [0 / 60000 (0.000000%)]\t1.542021\n",
            "Train Epoch: 5 [2000 / 60000 (3.333333%)]\t1.584491\n",
            "Train Epoch: 5 [4000 / 60000 (6.666667%)]\t1.604068\n",
            "Train Epoch: 5 [6000 / 60000 (10.000000%)]\t1.552050\n",
            "Train Epoch: 5 [8000 / 60000 (13.333333%)]\t1.517144\n",
            "Train Epoch: 5 [10000 / 60000 (16.666667%)]\t1.544828\n",
            "Train Epoch: 5 [12000 / 60000 (20.000000%)]\t1.598164\n",
            "Train Epoch: 5 [14000 / 60000 (23.333333%)]\t1.566356\n",
            "Train Epoch: 5 [16000 / 60000 (26.666667%)]\t1.577948\n",
            "Train Epoch: 5 [18000 / 60000 (30.000000%)]\t1.556739\n",
            "Train Epoch: 5 [20000 / 60000 (33.333333%)]\t1.519298\n",
            "Train Epoch: 5 [22000 / 60000 (36.666667%)]\t1.566152\n",
            "Train Epoch: 5 [24000 / 60000 (40.000000%)]\t1.579314\n",
            "Train Epoch: 5 [26000 / 60000 (43.333333%)]\t1.569463\n",
            "Train Epoch: 5 [28000 / 60000 (46.666667%)]\t1.572801\n",
            "Train Epoch: 5 [30000 / 60000 (50.000000%)]\t1.514690\n",
            "Train Epoch: 5 [32000 / 60000 (53.333333%)]\t1.622566\n",
            "Train Epoch: 5 [34000 / 60000 (56.666667%)]\t1.553633\n",
            "Train Epoch: 5 [36000 / 60000 (60.000000%)]\t1.528911\n",
            "Train Epoch: 5 [38000 / 60000 (63.333333%)]\t1.558921\n",
            "Train Epoch: 5 [40000 / 60000 (66.666667%)]\t1.614244\n",
            "Train Epoch: 5 [42000 / 60000 (70.000000%)]\t1.571158\n",
            "Train Epoch: 5 [44000 / 60000 (73.333333%)]\t1.531771\n",
            "Train Epoch: 5 [46000 / 60000 (76.666667%)]\t1.538541\n",
            "Train Epoch: 5 [48000 / 60000 (80.000000%)]\t1.509984\n",
            "Train Epoch: 5 [50000 / 60000 (83.333333%)]\t1.600768\n",
            "Train Epoch: 5 [52000 / 60000 (86.666667%)]\t1.538708\n",
            "Train Epoch: 5 [54000 / 60000 (90.000000%)]\t1.569610\n",
            "Train Epoch: 5 [56000 / 60000 (93.333333%)]\t1.535736\n",
            "Train Epoch: 5 [58000 / 60000 (96.666667%)]\t1.578884\n",
            "\n",
            "Test set: Average loss:  0.0150, Accuracy 9608/10000  (96%\n",
            ")\n",
            "Train Epoch: 6 [0 / 60000 (0.000000%)]\t1.561411\n",
            "Train Epoch: 6 [2000 / 60000 (3.333333%)]\t1.596359\n",
            "Train Epoch: 6 [4000 / 60000 (6.666667%)]\t1.556070\n",
            "Train Epoch: 6 [6000 / 60000 (10.000000%)]\t1.546593\n",
            "Train Epoch: 6 [8000 / 60000 (13.333333%)]\t1.546210\n",
            "Train Epoch: 6 [10000 / 60000 (16.666667%)]\t1.550583\n",
            "Train Epoch: 6 [12000 / 60000 (20.000000%)]\t1.532716\n",
            "Train Epoch: 6 [14000 / 60000 (23.333333%)]\t1.583213\n",
            "Train Epoch: 6 [16000 / 60000 (26.666667%)]\t1.581419\n",
            "Train Epoch: 6 [18000 / 60000 (30.000000%)]\t1.559393\n",
            "Train Epoch: 6 [20000 / 60000 (33.333333%)]\t1.592843\n",
            "Train Epoch: 6 [22000 / 60000 (36.666667%)]\t1.529152\n",
            "Train Epoch: 6 [24000 / 60000 (40.000000%)]\t1.585616\n",
            "Train Epoch: 6 [26000 / 60000 (43.333333%)]\t1.537225\n",
            "Train Epoch: 6 [28000 / 60000 (46.666667%)]\t1.504164\n",
            "Train Epoch: 6 [30000 / 60000 (50.000000%)]\t1.540799\n",
            "Train Epoch: 6 [32000 / 60000 (53.333333%)]\t1.556520\n",
            "Train Epoch: 6 [34000 / 60000 (56.666667%)]\t1.524153\n",
            "Train Epoch: 6 [36000 / 60000 (60.000000%)]\t1.555580\n",
            "Train Epoch: 6 [38000 / 60000 (63.333333%)]\t1.534967\n",
            "Train Epoch: 6 [40000 / 60000 (66.666667%)]\t1.542900\n",
            "Train Epoch: 6 [42000 / 60000 (70.000000%)]\t1.549336\n",
            "Train Epoch: 6 [44000 / 60000 (73.333333%)]\t1.552477\n",
            "Train Epoch: 6 [46000 / 60000 (76.666667%)]\t1.547073\n",
            "Train Epoch: 6 [48000 / 60000 (80.000000%)]\t1.546957\n",
            "Train Epoch: 6 [50000 / 60000 (83.333333%)]\t1.547065\n",
            "Train Epoch: 6 [52000 / 60000 (86.666667%)]\t1.516661\n",
            "Train Epoch: 6 [54000 / 60000 (90.000000%)]\t1.585795\n",
            "Train Epoch: 6 [56000 / 60000 (93.333333%)]\t1.539759\n",
            "Train Epoch: 6 [58000 / 60000 (96.666667%)]\t1.562034\n",
            "\n",
            "Test set: Average loss:  0.0150, Accuracy 9626/10000  (96%\n",
            ")\n",
            "Train Epoch: 7 [0 / 60000 (0.000000%)]\t1.543272\n",
            "Train Epoch: 7 [2000 / 60000 (3.333333%)]\t1.550399\n",
            "Train Epoch: 7 [4000 / 60000 (6.666667%)]\t1.525320\n",
            "Train Epoch: 7 [6000 / 60000 (10.000000%)]\t1.573470\n",
            "Train Epoch: 7 [8000 / 60000 (13.333333%)]\t1.534920\n",
            "Train Epoch: 7 [10000 / 60000 (16.666667%)]\t1.556773\n",
            "Train Epoch: 7 [12000 / 60000 (20.000000%)]\t1.561641\n",
            "Train Epoch: 7 [14000 / 60000 (23.333333%)]\t1.509168\n",
            "Train Epoch: 7 [16000 / 60000 (26.666667%)]\t1.561734\n",
            "Train Epoch: 7 [18000 / 60000 (30.000000%)]\t1.546605\n",
            "Train Epoch: 7 [20000 / 60000 (33.333333%)]\t1.527716\n",
            "Train Epoch: 7 [22000 / 60000 (36.666667%)]\t1.527738\n",
            "Train Epoch: 7 [24000 / 60000 (40.000000%)]\t1.547944\n",
            "Train Epoch: 7 [26000 / 60000 (43.333333%)]\t1.580327\n",
            "Train Epoch: 7 [28000 / 60000 (46.666667%)]\t1.542525\n",
            "Train Epoch: 7 [30000 / 60000 (50.000000%)]\t1.524197\n",
            "Train Epoch: 7 [32000 / 60000 (53.333333%)]\t1.569031\n",
            "Train Epoch: 7 [34000 / 60000 (56.666667%)]\t1.500076\n",
            "Train Epoch: 7 [36000 / 60000 (60.000000%)]\t1.587847\n",
            "Train Epoch: 7 [38000 / 60000 (63.333333%)]\t1.541662\n",
            "Train Epoch: 7 [40000 / 60000 (66.666667%)]\t1.527015\n",
            "Train Epoch: 7 [42000 / 60000 (70.000000%)]\t1.574613\n",
            "Train Epoch: 7 [44000 / 60000 (73.333333%)]\t1.568316\n",
            "Train Epoch: 7 [46000 / 60000 (76.666667%)]\t1.509033\n",
            "Train Epoch: 7 [48000 / 60000 (80.000000%)]\t1.536706\n",
            "Train Epoch: 7 [50000 / 60000 (83.333333%)]\t1.527904\n",
            "Train Epoch: 7 [52000 / 60000 (86.666667%)]\t1.530378\n",
            "Train Epoch: 7 [54000 / 60000 (90.000000%)]\t1.563200\n",
            "Train Epoch: 7 [56000 / 60000 (93.333333%)]\t1.523067\n",
            "Train Epoch: 7 [58000 / 60000 (96.666667%)]\t1.537329\n",
            "\n",
            "Test set: Average loss:  0.0149, Accuracy 9664/10000  (97%\n",
            ")\n",
            "Train Epoch: 8 [0 / 60000 (0.000000%)]\t1.578313\n",
            "Train Epoch: 8 [2000 / 60000 (3.333333%)]\t1.565353\n",
            "Train Epoch: 8 [4000 / 60000 (6.666667%)]\t1.560846\n",
            "Train Epoch: 8 [6000 / 60000 (10.000000%)]\t1.567442\n",
            "Train Epoch: 8 [8000 / 60000 (13.333333%)]\t1.527415\n",
            "Train Epoch: 8 [10000 / 60000 (16.666667%)]\t1.534722\n",
            "Train Epoch: 8 [12000 / 60000 (20.000000%)]\t1.524827\n",
            "Train Epoch: 8 [14000 / 60000 (23.333333%)]\t1.500042\n",
            "Train Epoch: 8 [16000 / 60000 (26.666667%)]\t1.547408\n",
            "Train Epoch: 8 [18000 / 60000 (30.000000%)]\t1.521207\n",
            "Train Epoch: 8 [20000 / 60000 (33.333333%)]\t1.529314\n",
            "Train Epoch: 8 [22000 / 60000 (36.666667%)]\t1.568325\n",
            "Train Epoch: 8 [24000 / 60000 (40.000000%)]\t1.525166\n",
            "Train Epoch: 8 [26000 / 60000 (43.333333%)]\t1.522548\n",
            "Train Epoch: 8 [28000 / 60000 (46.666667%)]\t1.490446\n",
            "Train Epoch: 8 [30000 / 60000 (50.000000%)]\t1.560998\n",
            "Train Epoch: 8 [32000 / 60000 (53.333333%)]\t1.525136\n",
            "Train Epoch: 8 [34000 / 60000 (56.666667%)]\t1.582488\n",
            "Train Epoch: 8 [36000 / 60000 (60.000000%)]\t1.532241\n",
            "Train Epoch: 8 [38000 / 60000 (63.333333%)]\t1.529829\n",
            "Train Epoch: 8 [40000 / 60000 (66.666667%)]\t1.575667\n",
            "Train Epoch: 8 [42000 / 60000 (70.000000%)]\t1.512614\n",
            "Train Epoch: 8 [44000 / 60000 (73.333333%)]\t1.577428\n",
            "Train Epoch: 8 [46000 / 60000 (76.666667%)]\t1.547054\n",
            "Train Epoch: 8 [48000 / 60000 (80.000000%)]\t1.563836\n",
            "Train Epoch: 8 [50000 / 60000 (83.333333%)]\t1.503630\n",
            "Train Epoch: 8 [52000 / 60000 (86.666667%)]\t1.560119\n",
            "Train Epoch: 8 [54000 / 60000 (90.000000%)]\t1.580150\n",
            "Train Epoch: 8 [56000 / 60000 (93.333333%)]\t1.575976\n",
            "Train Epoch: 8 [58000 / 60000 (96.666667%)]\t1.537599\n",
            "\n",
            "Test set: Average loss:  0.0149, Accuracy 9676/10000  (97%\n",
            ")\n",
            "Train Epoch: 9 [0 / 60000 (0.000000%)]\t1.570620\n",
            "Train Epoch: 9 [2000 / 60000 (3.333333%)]\t1.534888\n",
            "Train Epoch: 9 [4000 / 60000 (6.666667%)]\t1.512781\n",
            "Train Epoch: 9 [6000 / 60000 (10.000000%)]\t1.527022\n",
            "Train Epoch: 9 [8000 / 60000 (13.333333%)]\t1.485370\n",
            "Train Epoch: 9 [10000 / 60000 (16.666667%)]\t1.529215\n",
            "Train Epoch: 9 [12000 / 60000 (20.000000%)]\t1.548381\n",
            "Train Epoch: 9 [14000 / 60000 (23.333333%)]\t1.550490\n",
            "Train Epoch: 9 [16000 / 60000 (26.666667%)]\t1.536406\n",
            "Train Epoch: 9 [18000 / 60000 (30.000000%)]\t1.549264\n",
            "Train Epoch: 9 [20000 / 60000 (33.333333%)]\t1.524538\n",
            "Train Epoch: 9 [22000 / 60000 (36.666667%)]\t1.492215\n",
            "Train Epoch: 9 [24000 / 60000 (40.000000%)]\t1.541240\n",
            "Train Epoch: 9 [26000 / 60000 (43.333333%)]\t1.549405\n",
            "Train Epoch: 9 [28000 / 60000 (46.666667%)]\t1.484841\n",
            "Train Epoch: 9 [30000 / 60000 (50.000000%)]\t1.580375\n",
            "Train Epoch: 9 [32000 / 60000 (53.333333%)]\t1.529806\n",
            "Train Epoch: 9 [34000 / 60000 (56.666667%)]\t1.510577\n",
            "Train Epoch: 9 [36000 / 60000 (60.000000%)]\t1.580322\n",
            "Train Epoch: 9 [38000 / 60000 (63.333333%)]\t1.542711\n",
            "Train Epoch: 9 [40000 / 60000 (66.666667%)]\t1.569173\n",
            "Train Epoch: 9 [42000 / 60000 (70.000000%)]\t1.549402\n",
            "Train Epoch: 9 [44000 / 60000 (73.333333%)]\t1.520397\n",
            "Train Epoch: 9 [46000 / 60000 (76.666667%)]\t1.550640\n",
            "Train Epoch: 9 [48000 / 60000 (80.000000%)]\t1.535722\n",
            "Train Epoch: 9 [50000 / 60000 (83.333333%)]\t1.566953\n",
            "Train Epoch: 9 [52000 / 60000 (86.666667%)]\t1.527130\n",
            "Train Epoch: 9 [54000 / 60000 (90.000000%)]\t1.536855\n",
            "Train Epoch: 9 [56000 / 60000 (93.333333%)]\t1.552061\n",
            "Train Epoch: 9 [58000 / 60000 (96.666667%)]\t1.523134\n",
            "\n",
            "Test set: Average loss:  0.0149, Accuracy 9704/10000  (97%\n",
            ")\n",
            "Train Epoch: 10 [0 / 60000 (0.000000%)]\t1.503073\n",
            "Train Epoch: 10 [2000 / 60000 (3.333333%)]\t1.522961\n",
            "Train Epoch: 10 [4000 / 60000 (6.666667%)]\t1.529738\n",
            "Train Epoch: 10 [6000 / 60000 (10.000000%)]\t1.522175\n",
            "Train Epoch: 10 [8000 / 60000 (13.333333%)]\t1.534930\n",
            "Train Epoch: 10 [10000 / 60000 (16.666667%)]\t1.542554\n",
            "Train Epoch: 10 [12000 / 60000 (20.000000%)]\t1.507172\n",
            "Train Epoch: 10 [14000 / 60000 (23.333333%)]\t1.537702\n",
            "Train Epoch: 10 [16000 / 60000 (26.666667%)]\t1.537541\n",
            "Train Epoch: 10 [18000 / 60000 (30.000000%)]\t1.514559\n",
            "Train Epoch: 10 [20000 / 60000 (33.333333%)]\t1.510702\n",
            "Train Epoch: 10 [22000 / 60000 (36.666667%)]\t1.520159\n",
            "Train Epoch: 10 [24000 / 60000 (40.000000%)]\t1.573309\n",
            "Train Epoch: 10 [26000 / 60000 (43.333333%)]\t1.526510\n",
            "Train Epoch: 10 [28000 / 60000 (46.666667%)]\t1.596748\n",
            "Train Epoch: 10 [30000 / 60000 (50.000000%)]\t1.528828\n",
            "Train Epoch: 10 [32000 / 60000 (53.333333%)]\t1.544011\n",
            "Train Epoch: 10 [34000 / 60000 (56.666667%)]\t1.502588\n",
            "Train Epoch: 10 [36000 / 60000 (60.000000%)]\t1.511676\n",
            "Train Epoch: 10 [38000 / 60000 (63.333333%)]\t1.552875\n",
            "Train Epoch: 10 [40000 / 60000 (66.666667%)]\t1.575379\n",
            "Train Epoch: 10 [42000 / 60000 (70.000000%)]\t1.522380\n",
            "Train Epoch: 10 [44000 / 60000 (73.333333%)]\t1.523358\n",
            "Train Epoch: 10 [46000 / 60000 (76.666667%)]\t1.543117\n",
            "Train Epoch: 10 [48000 / 60000 (80.000000%)]\t1.505363\n",
            "Train Epoch: 10 [50000 / 60000 (83.333333%)]\t1.524406\n",
            "Train Epoch: 10 [52000 / 60000 (86.666667%)]\t1.585931\n",
            "Train Epoch: 10 [54000 / 60000 (90.000000%)]\t1.521211\n",
            "Train Epoch: 10 [56000 / 60000 (93.333333%)]\t1.509918\n",
            "Train Epoch: 10 [58000 / 60000 (96.666667%)]\t1.502633\n",
            "\n",
            "Test set: Average loss:  0.0149, Accuracy 9714/10000  (97%\n",
            ")\n"
          ]
        }
      ]
    },
    {
      "cell_type": "code",
      "source": [
        "import matplotlib.pyplot as plt\n",
        "model.eval()\n",
        "data, target = test_data[0]\n",
        "data = data.unsqueeze(0).to(device)\n",
        "output = model(data)\n",
        "prediction = output.argmax(dim=1, keepdim=True).item()\n",
        "print(f\"Prediction: {prediction}\")\n",
        "image = data.squeeze(0).squeeze(0).numpy()\n",
        "\n",
        "plt.imshow(image);"
      ],
      "metadata": {
        "colab": {
          "base_uri": "https://localhost:8080/",
          "height": 447
        },
        "id": "_OI_pKnscOfL",
        "outputId": "052effbd-e745-44db-c788-d9acb0f363dd"
      },
      "execution_count": 16,
      "outputs": [
        {
          "output_type": "stream",
          "name": "stdout",
          "text": [
            "Prediction: 7\n"
          ]
        },
        {
          "output_type": "display_data",
          "data": {
            "text/plain": [
              "<Figure size 640x480 with 1 Axes>"
            ],
            "image/png": "[encoded data removed]"
          },
          "metadata": {}
        }
      ]
    },
    {
      "cell_type": "code",
      "source": [
        "\n",
        "model.eval()\n",
        "data, target = test_data[25]\n",
        "data = data.unsqueeze(0).to(device)\n",
        "output = model(data)\n",
        "prediction = output.argmax(dim=1, keepdim=True).item()\n",
        "print(f\"Prediction: {prediction}\")\n",
        "image = data.squeeze(0).squeeze(0).numpy()\n",
        "\n",
        "plt.imshow(image);"
      ],
      "metadata": {
        "colab": {
          "base_uri": "https://localhost:8080/",
          "height": 447
        },
        "id": "hMzRaGiLdfuX",
        "outputId": "2052c220-d5c2-46a8-e41e-e0393c281126"
      },
      "execution_count": 17,
      "outputs": [
        {
          "output_type": "stream",
          "name": "stdout",
          "text": [
            "Prediction: 0\n"
          ]
        },
        {
          "output_type": "display_data",
          "data": {
            "text/plain": [
              "<Figure size 640x480 with 1 Axes>"
            ],
            "image/png": "[encoded data removed]"
          },
          "metadata": {}
        }
      ]
    },
    {
      "cell_type": "code",
      "source": [
        "import matplotlib.pyplot as plt\n",
        "\n",
        "def test_and_display_predictions():\n",
        "    model.eval()\n",
        "    correct_preds = []\n",
        "    incorrect_preds = []\n",
        "\n",
        "    with torch.no_grad():\n",
        "        for data, target in loaders['test']:\n",
        "            data, target = data.to(device), target.to(device)\n",
        "            output = model(data)\n",
        "            pred = output.argmax(dim=1, keepdim=True)\n",
        "\n",
        "            # Store correct predictions\n",
        "            for i in range(len(target)):\n",
        "                if pred[i] == target[i]:\n",
        "                    correct_preds.append((data[i], pred[i], target[i]))\n",
        "                else:\n",
        "                    incorrect_preds.append((data[i], pred[i], target[i]))\n",
        "\n",
        "            if len(correct_preds) >= 10 and len(incorrect_preds) >= 10:\n",
        "                break\n",
        "\n",
        "    # Display first 10 correct predictions\n",
        "    plt.figure(figsize=(15, 5))\n",
        "    for i in range(10):\n",
        "        image, prediction, true_label = correct_preds[i]\n",
        "        plt.subplot(2, 10, i + 1)\n",
        "        plt.imshow(image.squeeze(0).cpu().numpy(), cmap='gray')\n",
        "        plt.title(f'Pred: {prediction.item()}\\nTrue: {true_label.item()}')\n",
        "        plt.axis('off')\n",
        "\n",
        "    # Display first 10 incorrect predictions\n",
        "    for i in range(10):\n",
        "        image, prediction, true_label = incorrect_preds[i]\n",
        "        plt.subplot(2, 10, 10 + i + 1)\n",
        "        plt.imshow(image.squeeze(0).cpu().numpy(), cmap='gray')\n",
        "        plt.title(f'Pred: {prediction.item()}\\nTrue: {true_label.item()}')\n",
        "        plt.axis('off')\n",
        "\n",
        "    plt.tight_layout()\n",
        "    plt.show()\n",
        "\n",
        "# Call the function\n",
        "test_and_display_predictions()\n"
      ],
      "metadata": {
        "colab": {
          "base_uri": "https://localhost:8080/",
          "height": 199
        },
        "id": "qd_JZdkQgBsr",
        "outputId": "3f221774-4b3c-4caf-c2a2-d5aa9b052c95"
      },
      "execution_count": 21,
      "outputs": [
        {
          "output_type": "display_data",
          "data": {
            "text/plain": [
              "<Figure size 1500x500 with 20 Axes>"
            ],
            "image/png": "[encoded data removed]"
          },
          "metadata": {}
        }
      ]
    },
    {
      "cell_type": "code",
      "source": [],
      "metadata": {
        "id": "wxBVLvW5gGc5"
      },
      "execution_count": 17,
      "outputs": []
    }
  ]
}